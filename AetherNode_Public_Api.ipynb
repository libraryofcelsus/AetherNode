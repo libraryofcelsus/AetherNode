{
  "nbformat": 4,
  "nbformat_minor": 0,
  "metadata": {
    "colab": {
      "provenance": [],
      "gpuType": "T4"
    },
    "kernelspec": {
      "name": "python3",
      "display_name": "Python 3"
    },
    "language_info": {
      "name": "python"
    },
    "accelerator": "GPU"
  },
  "cells": [
    {
      "cell_type": "markdown",
      "source": [
        "# This is a google colab for the AetherNode API using Llama-2-13B-Chat-GPTQ by The Bloke\n",
        "AetherNode GitHub: https://github.com/libraryofcelsus/AetherNode\n",
        "\n",
        "The Bloke HuggingFace: https://huggingface.co/TheBloke/Llama-2-13B-chat-GPTQ\n",
        "\n",
        "My Ai Assistant/Agent: https://github.com/libraryofcelsus/Aetherius_AI_Assistant"
      ],
      "metadata": {
        "id": "ycVeYaWHLKDn"
      }
    },
    {
      "cell_type": "code",
      "execution_count": null,
      "metadata": {
        "cellView": "form",
        "id": "ruhwD7cUubAN"
      },
      "outputs": [],
      "source": [
        "#@title Download AetherNode and Install Requirements\n",
        "#@markdown This may take a while\n",
        "\n",
        "#@markdown Ignore Dependency Errors\n",
        "!git clone https://github.com/libraryofcelsus/AetherNode --branch 0.04\n",
        "%cd /content/AetherNode\n",
        "\n",
        "!pip install -r requirements.txt\n",
        "!pip install transformers>=4.32.0 optimum>=1.12.0\n",
        "!pip uninstall -y auto-gptq\n",
        "!pip install 'typing-extensions<4.6.0'\n",
        "!git clone https://github.com/libraryofcelsus/AutoGPTQ\n",
        "!pip install 'auto-gptq==0.5.1'\n",
        "!git clone https://github.com/libraryofcelsus/exllamav2\n",
        "%cd exllamav2\n",
        "!pip install .\n",
        "!pip install --upgrade typing_extensions\n",
        "!pip install 'flask==3.0.0'\n",
        "!pip install 'pyngrok==7.0.1'\n",
        "from IPython.display import clear_output\n",
        "clear_output()\n",
        "print(\"Done\")\n"
      ]
    },
    {
      "cell_type": "code",
      "source": [
        "#@title Download Model (Aetherius uses Llama-2-Chat)\n",
        "#@markdown\n",
        "%cd /content/AetherNode\n",
        "\n",
        "!python Download_Model.py\n",
        "from IPython.display import clear_output\n",
        "clear_output()\n",
        "print(\"Done\")\n"
      ],
      "metadata": {
        "cellView": "form",
        "id": "kNYvvn-u0FtG"
      },
      "execution_count": null,
      "outputs": []
    },
    {
      "cell_type": "code",
      "source": [
        "#@title Install Ngrok\n",
        "#@markdown\n",
        "!pip install flask\n",
        "!pip install pyngrok\n",
        "from IPython.display import clear_output\n",
        "clear_output()\n",
        "print(\"Done\")\n"
      ],
      "metadata": {
        "cellView": "form",
        "id": "18bGz_sdCdc4"
      },
      "execution_count": null,
      "outputs": []
    },
    {
      "cell_type": "code",
      "source": [
        "#@title Start API!\n",
        "#@markdown Make sure to grab the given ngrok link.\n",
        "\n",
        "#@markdown Do not use the ending \"/\" if using with Aetherius\n",
        "\n",
        "#@markdown Example usage can be found on the github.\n",
        "\n",
        "#@markdown Wait for:  INFO:  Application startup complete.\n",
        "\n",
        "#@markdown Ignore the logging error :)\n",
        "import os\n",
        "import threading\n",
        "\n",
        "from flask import Flask\n",
        "from pyngrok import ngrok\n",
        "\n",
        "app = Flask(__name__)\n",
        "port = \"8000\"\n",
        "\n",
        "# Open a ngrok tunnel to the HTTP server\n",
        "public_url = ngrok.connect(port).public_url\n",
        "print(\" * ngrok tunnel \\\"{}\\\" -> \\\"http://127.0.0.1:{}\\\"\".format(public_url, port))\n",
        "\n",
        "# Update any base URLs to use the public ngrok URL\n",
        "app.config[\"BASE_URL\"] = public_url\n",
        "\n",
        "\n",
        "\n",
        "# Start the Flask server in a new thread\n",
        "threading.Thread(target=app.run, kwargs={\"use_reloader\": False}).start()\n",
        "!python AetherNode_ExLlama2.py &"
      ],
      "metadata": {
        "cellView": "form",
        "id": "gYjD15BqKwW2"
      },
      "execution_count": null,
      "outputs": []
    }
  ]
}